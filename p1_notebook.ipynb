{
 "cells": [
  {
   "cell_type": "code",
   "execution_count": 414,
   "metadata": {},
   "outputs": [],
   "source": [
    "#######################################\n",
    "# CS 424 - Project 1\n",
    "# Kevin Kowalski\n",
    "#######################################\n",
    "#\n",
    "# This file contains the code to clean\n",
    "# the original data set. It outputs\n",
    "# the necessary plots and updated data\n",
    "# set to be used by shiny.\n",
    "#\n",
    "# This file was used for testing and \n",
    "# plotting before using RStudio for a\n",
    "# dashboard.\n",
    "#\n",
    "####################################### "
   ]
  },
  {
   "cell_type": "code",
   "execution_count": 415,
   "metadata": {},
   "outputs": [],
   "source": [
    "# import libraries\n",
    "library(leaflet)\n",
    "library(lubridate)\n",
    "library(dplyr)\n",
    "library(ggplot2)\n",
    "library(scales)\n",
    "library(stringr)"
   ]
  },
  {
   "cell_type": "code",
   "execution_count": 416,
   "metadata": {},
   "outputs": [],
   "source": [
    "# read original data\n",
    "data_original <- read.table(file = \"litterati_challenge-65.csv\", sep = \",\", header = TRUE)"
   ]
  },
  {
   "cell_type": "code",
   "execution_count": 417,
   "metadata": {},
   "outputs": [
    {
     "data": {
      "text/html": [
       "<table>\n",
       "<thead><tr><th scope=col>challengeId</th><th scope=col>litterjoinId</th><th scope=col>litterId</th><th scope=col>litterTimestamp</th><th scope=col>lat</th><th scope=col>lon</th><th scope=col>tags</th><th scope=col>url</th><th scope=col>user_id</th><th scope=col>username</th></tr></thead>\n",
       "<tbody>\n",
       "\t<tr><td>65                                                                                                                         </td><td>5480356                                                                                                                    </td><td>4930102                                                                                                                    </td><td>2020-01-07 22:14:20                                                                                                        </td><td>41.86555                                                                                                                   </td><td>-87.81282                                                                                                                  </td><td>wrapper,cigarette,plastic                                                                                                  </td><td>https://s3.amazonaws.com/litterati-v3-bucket/2020/1/7/34059-ltr_1578431660.841352_856DCED5-73C1-4F00-9788-8476F3A515B5.jpg </td><td>34059                                                                                                                      </td><td>julieta                                                                                                                    </td></tr>\n",
       "\t<tr><td>65                                                                                                                         </td><td>5480352                                                                                                                    </td><td>4930101                                                                                                                    </td><td>2020-01-07 22:14:04                                                                                                        </td><td>41.86549                                                                                                                   </td><td>-87.81285                                                                                                                  </td><td>plastic,wrapper                                                                                                            </td><td>https://s3.amazonaws.com/litterati-v3-bucket/2020/1/7/34059-ltr_1578431644.2910419_FD168AC1-95C4-4000-A6E6-30432C200FD8.jpg</td><td>34059                                                                                                                      </td><td>julieta                                                                                                                    </td></tr>\n",
       "\t<tr><td>65                                                                                                                         </td><td>5480348                                                                                                                    </td><td>4930100                                                                                                                    </td><td>2020-01-07 22:14:18                                                                                                        </td><td>41.86555                                                                                                                   </td><td>-87.81285                                                                                                                  </td><td>papertowel,paper                                                                                                           </td><td>https://s3.amazonaws.com/litterati-v3-bucket/2020/1/7/34059-ltr_1578431658.6658711_DDE3CD30-8544-436B-92AD-4B244C68F0DA.jpg</td><td>34059                                                                                                                      </td><td>julieta                                                                                                                    </td></tr>\n",
       "\t<tr><td>65                                                                                                                         </td><td>5480344                                                                                                                    </td><td>4930099                                                                                                                    </td><td>2020-01-07 22:14:22                                                                                                        </td><td>41.86556                                                                                                                   </td><td>-87.81281                                                                                                                  </td><td>plastic                                                                                                                    </td><td>https://s3.amazonaws.com/litterati-v3-bucket/2020/1/7/34059-ltr_1578431662.3577209_27179EC7-5375-4676-804F-2CE25CCC8A7E.jpg</td><td>34059                                                                                                                      </td><td>julieta                                                                                                                    </td></tr>\n",
       "\t<tr><td>65                                                                                                                         </td><td>5480340                                                                                                                    </td><td>4930098                                                                                                                    </td><td>2020-01-07 22:15:21                                                                                                        </td><td>41.86545                                                                                                                   </td><td>-87.81280                                                                                                                  </td><td>plastic,bag,walmart                                                                                                        </td><td>https://s3.amazonaws.com/litterati-v3-bucket/2020/1/7/34059-ltr_1578431721.325562_EEBD0732-96F3-441F-8A7D-9E6AF68BBD13.jpg </td><td>34059                                                                                                                      </td><td>julieta                                                                                                                    </td></tr>\n",
       "\t<tr><td>65                                                                                                                         </td><td>5480336                                                                                                                    </td><td>4930097                                                                                                                    </td><td>2020-01-07 22:13:37                                                                                                        </td><td>41.86540                                                                                                                   </td><td>-87.81265                                                                                                                  </td><td>plastic,candy,dumdums,wrapper                                                                                              </td><td>https://s3.amazonaws.com/litterati-v3-bucket/2020/1/7/34059-ltr_1578431617.1624532_7DD24C26-5E55-4F8F-BF5A-ECA68E012EE7.jpg</td><td>34059                                                                                                                      </td><td>julieta                                                                                                                    </td></tr>\n",
       "</tbody>\n",
       "</table>\n"
      ],
      "text/latex": [
       "\\begin{tabular}{r|llllllllll}\n",
       " challengeId & litterjoinId & litterId & litterTimestamp & lat & lon & tags & url & user\\_id & username\\\\\n",
       "\\hline\n",
       "\t 65                                                                                                                              & 5480356                                                                                                                         & 4930102                                                                                                                         & 2020-01-07 22:14:20                                                                                                             & 41.86555                                                                                                                        & -87.81282                                                                                                                       & wrapper,cigarette,plastic                                                                                                       & https://s3.amazonaws.com/litterati-v3-bucket/2020/1/7/34059-ltr\\_1578431660.841352\\_856DCED5-73C1-4F00-9788-8476F3A515B5.jpg  & 34059                                                                                                                           & julieta                                                                                                                        \\\\\n",
       "\t 65                                                                                                                              & 5480352                                                                                                                         & 4930101                                                                                                                         & 2020-01-07 22:14:04                                                                                                             & 41.86549                                                                                                                        & -87.81285                                                                                                                       & plastic,wrapper                                                                                                                 & https://s3.amazonaws.com/litterati-v3-bucket/2020/1/7/34059-ltr\\_1578431644.2910419\\_FD168AC1-95C4-4000-A6E6-30432C200FD8.jpg & 34059                                                                                                                           & julieta                                                                                                                        \\\\\n",
       "\t 65                                                                                                                              & 5480348                                                                                                                         & 4930100                                                                                                                         & 2020-01-07 22:14:18                                                                                                             & 41.86555                                                                                                                        & -87.81285                                                                                                                       & papertowel,paper                                                                                                                & https://s3.amazonaws.com/litterati-v3-bucket/2020/1/7/34059-ltr\\_1578431658.6658711\\_DDE3CD30-8544-436B-92AD-4B244C68F0DA.jpg & 34059                                                                                                                           & julieta                                                                                                                        \\\\\n",
       "\t 65                                                                                                                              & 5480344                                                                                                                         & 4930099                                                                                                                         & 2020-01-07 22:14:22                                                                                                             & 41.86556                                                                                                                        & -87.81281                                                                                                                       & plastic                                                                                                                         & https://s3.amazonaws.com/litterati-v3-bucket/2020/1/7/34059-ltr\\_1578431662.3577209\\_27179EC7-5375-4676-804F-2CE25CCC8A7E.jpg & 34059                                                                                                                           & julieta                                                                                                                        \\\\\n",
       "\t 65                                                                                                                              & 5480340                                                                                                                         & 4930098                                                                                                                         & 2020-01-07 22:15:21                                                                                                             & 41.86545                                                                                                                        & -87.81280                                                                                                                       & plastic,bag,walmart                                                                                                             & https://s3.amazonaws.com/litterati-v3-bucket/2020/1/7/34059-ltr\\_1578431721.325562\\_EEBD0732-96F3-441F-8A7D-9E6AF68BBD13.jpg  & 34059                                                                                                                           & julieta                                                                                                                        \\\\\n",
       "\t 65                                                                                                                              & 5480336                                                                                                                         & 4930097                                                                                                                         & 2020-01-07 22:13:37                                                                                                             & 41.86540                                                                                                                        & -87.81265                                                                                                                       & plastic,candy,dumdums,wrapper                                                                                                   & https://s3.amazonaws.com/litterati-v3-bucket/2020/1/7/34059-ltr\\_1578431617.1624532\\_7DD24C26-5E55-4F8F-BF5A-ECA68E012EE7.jpg & 34059                                                                                                                           & julieta                                                                                                                        \\\\\n",
       "\\end{tabular}\n"
      ],
      "text/markdown": [
       "\n",
       "| challengeId | litterjoinId | litterId | litterTimestamp | lat | lon | tags | url | user_id | username |\n",
       "|---|---|---|---|---|---|---|---|---|---|\n",
       "| 65                                                                                                                          | 5480356                                                                                                                     | 4930102                                                                                                                     | 2020-01-07 22:14:20                                                                                                         | 41.86555                                                                                                                    | -87.81282                                                                                                                   | wrapper,cigarette,plastic                                                                                                   | https://s3.amazonaws.com/litterati-v3-bucket/2020/1/7/34059-ltr_1578431660.841352_856DCED5-73C1-4F00-9788-8476F3A515B5.jpg  | 34059                                                                                                                       | julieta                                                                                                                     |\n",
       "| 65                                                                                                                          | 5480352                                                                                                                     | 4930101                                                                                                                     | 2020-01-07 22:14:04                                                                                                         | 41.86549                                                                                                                    | -87.81285                                                                                                                   | plastic,wrapper                                                                                                             | https://s3.amazonaws.com/litterati-v3-bucket/2020/1/7/34059-ltr_1578431644.2910419_FD168AC1-95C4-4000-A6E6-30432C200FD8.jpg | 34059                                                                                                                       | julieta                                                                                                                     |\n",
       "| 65                                                                                                                          | 5480348                                                                                                                     | 4930100                                                                                                                     | 2020-01-07 22:14:18                                                                                                         | 41.86555                                                                                                                    | -87.81285                                                                                                                   | papertowel,paper                                                                                                            | https://s3.amazonaws.com/litterati-v3-bucket/2020/1/7/34059-ltr_1578431658.6658711_DDE3CD30-8544-436B-92AD-4B244C68F0DA.jpg | 34059                                                                                                                       | julieta                                                                                                                     |\n",
       "| 65                                                                                                                          | 5480344                                                                                                                     | 4930099                                                                                                                     | 2020-01-07 22:14:22                                                                                                         | 41.86556                                                                                                                    | -87.81281                                                                                                                   | plastic                                                                                                                     | https://s3.amazonaws.com/litterati-v3-bucket/2020/1/7/34059-ltr_1578431662.3577209_27179EC7-5375-4676-804F-2CE25CCC8A7E.jpg | 34059                                                                                                                       | julieta                                                                                                                     |\n",
       "| 65                                                                                                                          | 5480340                                                                                                                     | 4930098                                                                                                                     | 2020-01-07 22:15:21                                                                                                         | 41.86545                                                                                                                    | -87.81280                                                                                                                   | plastic,bag,walmart                                                                                                         | https://s3.amazonaws.com/litterati-v3-bucket/2020/1/7/34059-ltr_1578431721.325562_EEBD0732-96F3-441F-8A7D-9E6AF68BBD13.jpg  | 34059                                                                                                                       | julieta                                                                                                                     |\n",
       "| 65                                                                                                                          | 5480336                                                                                                                     | 4930097                                                                                                                     | 2020-01-07 22:13:37                                                                                                         | 41.86540                                                                                                                    | -87.81265                                                                                                                   | plastic,candy,dumdums,wrapper                                                                                               | https://s3.amazonaws.com/litterati-v3-bucket/2020/1/7/34059-ltr_1578431617.1624532_7DD24C26-5E55-4F8F-BF5A-ECA68E012EE7.jpg | 34059                                                                                                                       | julieta                                                                                                                     |\n",
       "\n"
      ],
      "text/plain": [
       "  challengeId litterjoinId litterId litterTimestamp     lat      lon      \n",
       "1 65          5480356      4930102  2020-01-07 22:14:20 41.86555 -87.81282\n",
       "2 65          5480352      4930101  2020-01-07 22:14:04 41.86549 -87.81285\n",
       "3 65          5480348      4930100  2020-01-07 22:14:18 41.86555 -87.81285\n",
       "4 65          5480344      4930099  2020-01-07 22:14:22 41.86556 -87.81281\n",
       "5 65          5480340      4930098  2020-01-07 22:15:21 41.86545 -87.81280\n",
       "6 65          5480336      4930097  2020-01-07 22:13:37 41.86540 -87.81265\n",
       "  tags                         \n",
       "1 wrapper,cigarette,plastic    \n",
       "2 plastic,wrapper              \n",
       "3 papertowel,paper             \n",
       "4 plastic                      \n",
       "5 plastic,bag,walmart          \n",
       "6 plastic,candy,dumdums,wrapper\n",
       "  url                                                                                                                        \n",
       "1 https://s3.amazonaws.com/litterati-v3-bucket/2020/1/7/34059-ltr_1578431660.841352_856DCED5-73C1-4F00-9788-8476F3A515B5.jpg \n",
       "2 https://s3.amazonaws.com/litterati-v3-bucket/2020/1/7/34059-ltr_1578431644.2910419_FD168AC1-95C4-4000-A6E6-30432C200FD8.jpg\n",
       "3 https://s3.amazonaws.com/litterati-v3-bucket/2020/1/7/34059-ltr_1578431658.6658711_DDE3CD30-8544-436B-92AD-4B244C68F0DA.jpg\n",
       "4 https://s3.amazonaws.com/litterati-v3-bucket/2020/1/7/34059-ltr_1578431662.3577209_27179EC7-5375-4676-804F-2CE25CCC8A7E.jpg\n",
       "5 https://s3.amazonaws.com/litterati-v3-bucket/2020/1/7/34059-ltr_1578431721.325562_EEBD0732-96F3-441F-8A7D-9E6AF68BBD13.jpg \n",
       "6 https://s3.amazonaws.com/litterati-v3-bucket/2020/1/7/34059-ltr_1578431617.1624532_7DD24C26-5E55-4F8F-BF5A-ECA68E012EE7.jpg\n",
       "  user_id username\n",
       "1 34059   julieta \n",
       "2 34059   julieta \n",
       "3 34059   julieta \n",
       "4 34059   julieta \n",
       "5 34059   julieta \n",
       "6 34059   julieta "
      ]
     },
     "metadata": {},
     "output_type": "display_data"
    }
   ],
   "source": [
    "# see top of data\n",
    "head(data_original)"
   ]
  },
  {
   "cell_type": "code",
   "execution_count": 418,
   "metadata": {},
   "outputs": [
    {
     "name": "stdout",
     "output_type": "stream",
     "text": [
      "'data.frame':\t12646 obs. of  10 variables:\n",
      " $ challengeId    : int  65 65 65 65 65 65 65 65 65 65 ...\n",
      " $ litterjoinId   : int  5480356 5480352 5480348 5480344 5480340 5480336 5480332 5480328 5480324 5480320 ...\n",
      " $ litterId       : int  4930102 4930101 4930100 4930099 4930098 4930097 4930096 4930095 4930094 4930093 ...\n",
      " $ litterTimestamp: Factor w/ 12558 levels \"2018-04-19 18:42:50\",..: 12556 12554 12555 12557 12558 12552 12551 12550 12553 12548 ...\n",
      " $ lat            : num  41.9 41.9 41.9 41.9 41.9 ...\n",
      " $ lon            : num  -87.8 -87.8 -87.8 -87.8 -87.8 ...\n",
      " $ tags           : Factor w/ 2227 levels \"\",\"7 up,aluminum,can\",..: 2110 1619 1294 1320 1346 1387 1619 1320 2145 1088 ...\n",
      " $ url            : Factor w/ 12625 levels \"https://litterati-images-prod.s3-us-west-2.amazonaws.com/2018/04/19/05d2ad10-10ec-11e9-9366-0f84017efb1f-34059.jpg\",..: 12623 12621 12622 12624 12625 12619 12618 12617 12620 12615 ...\n",
      " $ user_id        : int  34059 34059 34059 34059 34059 34059 34059 34059 34059 34059 ...\n",
      " $ username       : Factor w/ 36 levels \"akira28\",\"Andrea\",..: 15 15 15 15 15 15 15 15 15 15 ...\n"
     ]
    },
    {
     "data": {
      "text/plain": [
       "  challengeId  litterjoinId        litterId                  litterTimestamp \n",
       " Min.   :65   Min.   :1218447   Min.   :1218446   2019-05-05 02:04:46:    4  \n",
       " 1st Qu.:65   1st Qu.:3119431   1st Qu.:3119523   2019-05-05 02:04:47:    4  \n",
       " Median :65   Median :3359042   Median :3359134   2019-05-09 17:09:33:    4  \n",
       " Mean   :65   Mean   :3565466   Mean   :3511399   2019-05-13 17:05:50:    4  \n",
       " 3rd Qu.:65   3rd Qu.:4177098   3rd Qu.:4177406   2019-05-13 17:08:31:    4  \n",
       " Max.   :65   Max.   :5480356   Max.   :4930102   2019-05-05 02:04:48:    3  \n",
       "                                                  (Other)            :12623  \n",
       "      lat              lon                      tags     \n",
       " Min.   :-87.81   Min.   :-87.84                  :1573  \n",
       " 1st Qu.: 41.86   1st Qu.:-87.81   paper          :1388  \n",
       " Median : 41.87   Median :-87.81   plastic        :1237  \n",
       " Mean   : 39.70   Mean   :-83.17   plastic,wrapper: 458  \n",
       " 3rd Qu.: 41.87   3rd Qu.:-87.81   wrapper,plastic: 438  \n",
       " Max.   : 41.89   Max.   : 41.88   cigarette      : 366  \n",
       "                                   (Other)        :7186  \n",
       "                                                                                                                          url       \n",
       " https://s3.amazonaws.com/litterati-v3-bucket/2019/12/4/34059-ltr_1575490462.833061_E0F3ED4E-2D33-4A8B-8F97-B6AF2C8F7C49.jpg:    3  \n",
       " https://s3.amazonaws.com/litterati-v3-bucket/2019/12/4/34059-ltr_1575490827.243692_2B435293-0FAE-45E4-85F6-D969CCC5A9D9.jpg:    3  \n",
       " https://s3.amazonaws.com/litterati-v3-bucket/2019/12/4/34059-ltr_1575489853.247041_9F2254C6-CDFF-421E-B815-4C60D34D0E0C.jpg:    2  \n",
       " https://s3.amazonaws.com/litterati-v3-bucket/2019/12/4/34059-ltr_1575490460.565709_E0517CBF-C747-43DB-9909-99C317488F07.jpg:    2  \n",
       " https://s3.amazonaws.com/litterati-v3-bucket/2019/12/4/34059-ltr_1575490465.433953_20558165-3DEE-4DA0-872A-2D01C44CD1DE.jpg:    2  \n",
       " https://s3.amazonaws.com/litterati-v3-bucket/2019/12/4/34059-ltr_1575490514.145138_5DF47BA7-736E-49F7-A2BF-A4D5F9DE3F90.jpg:    2  \n",
       " (Other)                                                                                                                    :12632  \n",
       "    user_id                  username   \n",
       " Min.   : 34059   julieta        :6519  \n",
       " 1st Qu.: 34059   jill-wagner    :2722  \n",
       " Median : 34059   maro-          : 922  \n",
       " Mean   : 69028   Julianne B     : 686  \n",
       " 3rd Qu.:116931   betivere       : 632  \n",
       " Max.   :133589   litterati-73940: 540  \n",
       "                  (Other)        : 625  "
      ]
     },
     "metadata": {},
     "output_type": "display_data"
    },
    {
     "data": {
      "text/html": [
       "<ol class=list-inline>\n",
       "\t<li>12646</li>\n",
       "\t<li>10</li>\n",
       "</ol>\n"
      ],
      "text/latex": [
       "\\begin{enumerate*}\n",
       "\\item 12646\n",
       "\\item 10\n",
       "\\end{enumerate*}\n"
      ],
      "text/markdown": [
       "1. 12646\n",
       "2. 10\n",
       "\n",
       "\n"
      ],
      "text/plain": [
       "[1] 12646    10"
      ]
     },
     "metadata": {},
     "output_type": "display_data"
    }
   ],
   "source": [
    "# get strings, summary, and dimensions of data\n",
    "str(data_original)\n",
    "summary(data_original)\n",
    "dim(data_original)"
   ]
  },
  {
   "cell_type": "code",
   "execution_count": 419,
   "metadata": {},
   "outputs": [],
   "source": [
    "# copy original data to new dataframe to manipulate\n",
    "data <- data.frame(data_original)"
   ]
  },
  {
   "cell_type": "code",
   "execution_count": 420,
   "metadata": {},
   "outputs": [
    {
     "data": {
      "text/html": [
       "<table>\n",
       "<thead><tr><th scope=col>litterTimestamp</th><th scope=col>lat</th><th scope=col>lon</th><th scope=col>tags</th><th scope=col>url</th><th scope=col>user_id</th><th scope=col>username</th></tr></thead>\n",
       "<tbody>\n",
       "\t<tr><td>2020-01-07 22:14:20                                                                                                        </td><td>41.86555                                                                                                                   </td><td>-87.81282                                                                                                                  </td><td>wrapper,cigarette,plastic                                                                                                  </td><td>https://s3.amazonaws.com/litterati-v3-bucket/2020/1/7/34059-ltr_1578431660.841352_856DCED5-73C1-4F00-9788-8476F3A515B5.jpg </td><td>34059                                                                                                                      </td><td>julieta                                                                                                                    </td></tr>\n",
       "\t<tr><td>2020-01-07 22:14:04                                                                                                        </td><td>41.86549                                                                                                                   </td><td>-87.81285                                                                                                                  </td><td>plastic,wrapper                                                                                                            </td><td>https://s3.amazonaws.com/litterati-v3-bucket/2020/1/7/34059-ltr_1578431644.2910419_FD168AC1-95C4-4000-A6E6-30432C200FD8.jpg</td><td>34059                                                                                                                      </td><td>julieta                                                                                                                    </td></tr>\n",
       "\t<tr><td>2020-01-07 22:14:18                                                                                                        </td><td>41.86555                                                                                                                   </td><td>-87.81285                                                                                                                  </td><td>papertowel,paper                                                                                                           </td><td>https://s3.amazonaws.com/litterati-v3-bucket/2020/1/7/34059-ltr_1578431658.6658711_DDE3CD30-8544-436B-92AD-4B244C68F0DA.jpg</td><td>34059                                                                                                                      </td><td>julieta                                                                                                                    </td></tr>\n",
       "\t<tr><td>2020-01-07 22:14:22                                                                                                        </td><td>41.86556                                                                                                                   </td><td>-87.81281                                                                                                                  </td><td>plastic                                                                                                                    </td><td>https://s3.amazonaws.com/litterati-v3-bucket/2020/1/7/34059-ltr_1578431662.3577209_27179EC7-5375-4676-804F-2CE25CCC8A7E.jpg</td><td>34059                                                                                                                      </td><td>julieta                                                                                                                    </td></tr>\n",
       "\t<tr><td>2020-01-07 22:15:21                                                                                                        </td><td>41.86545                                                                                                                   </td><td>-87.81280                                                                                                                  </td><td>plastic,bag,walmart                                                                                                        </td><td>https://s3.amazonaws.com/litterati-v3-bucket/2020/1/7/34059-ltr_1578431721.325562_EEBD0732-96F3-441F-8A7D-9E6AF68BBD13.jpg </td><td>34059                                                                                                                      </td><td>julieta                                                                                                                    </td></tr>\n",
       "\t<tr><td>2020-01-07 22:13:37                                                                                                        </td><td>41.86540                                                                                                                   </td><td>-87.81265                                                                                                                  </td><td>plastic,candy,dumdums,wrapper                                                                                              </td><td>https://s3.amazonaws.com/litterati-v3-bucket/2020/1/7/34059-ltr_1578431617.1624532_7DD24C26-5E55-4F8F-BF5A-ECA68E012EE7.jpg</td><td>34059                                                                                                                      </td><td>julieta                                                                                                                    </td></tr>\n",
       "</tbody>\n",
       "</table>\n"
      ],
      "text/latex": [
       "\\begin{tabular}{r|lllllll}\n",
       " litterTimestamp & lat & lon & tags & url & user\\_id & username\\\\\n",
       "\\hline\n",
       "\t 2020-01-07 22:14:20                                                                                                             & 41.86555                                                                                                                        & -87.81282                                                                                                                       & wrapper,cigarette,plastic                                                                                                       & https://s3.amazonaws.com/litterati-v3-bucket/2020/1/7/34059-ltr\\_1578431660.841352\\_856DCED5-73C1-4F00-9788-8476F3A515B5.jpg  & 34059                                                                                                                           & julieta                                                                                                                        \\\\\n",
       "\t 2020-01-07 22:14:04                                                                                                             & 41.86549                                                                                                                        & -87.81285                                                                                                                       & plastic,wrapper                                                                                                                 & https://s3.amazonaws.com/litterati-v3-bucket/2020/1/7/34059-ltr\\_1578431644.2910419\\_FD168AC1-95C4-4000-A6E6-30432C200FD8.jpg & 34059                                                                                                                           & julieta                                                                                                                        \\\\\n",
       "\t 2020-01-07 22:14:18                                                                                                             & 41.86555                                                                                                                        & -87.81285                                                                                                                       & papertowel,paper                                                                                                                & https://s3.amazonaws.com/litterati-v3-bucket/2020/1/7/34059-ltr\\_1578431658.6658711\\_DDE3CD30-8544-436B-92AD-4B244C68F0DA.jpg & 34059                                                                                                                           & julieta                                                                                                                        \\\\\n",
       "\t 2020-01-07 22:14:22                                                                                                             & 41.86556                                                                                                                        & -87.81281                                                                                                                       & plastic                                                                                                                         & https://s3.amazonaws.com/litterati-v3-bucket/2020/1/7/34059-ltr\\_1578431662.3577209\\_27179EC7-5375-4676-804F-2CE25CCC8A7E.jpg & 34059                                                                                                                           & julieta                                                                                                                        \\\\\n",
       "\t 2020-01-07 22:15:21                                                                                                             & 41.86545                                                                                                                        & -87.81280                                                                                                                       & plastic,bag,walmart                                                                                                             & https://s3.amazonaws.com/litterati-v3-bucket/2020/1/7/34059-ltr\\_1578431721.325562\\_EEBD0732-96F3-441F-8A7D-9E6AF68BBD13.jpg  & 34059                                                                                                                           & julieta                                                                                                                        \\\\\n",
       "\t 2020-01-07 22:13:37                                                                                                             & 41.86540                                                                                                                        & -87.81265                                                                                                                       & plastic,candy,dumdums,wrapper                                                                                                   & https://s3.amazonaws.com/litterati-v3-bucket/2020/1/7/34059-ltr\\_1578431617.1624532\\_7DD24C26-5E55-4F8F-BF5A-ECA68E012EE7.jpg & 34059                                                                                                                           & julieta                                                                                                                        \\\\\n",
       "\\end{tabular}\n"
      ],
      "text/markdown": [
       "\n",
       "| litterTimestamp | lat | lon | tags | url | user_id | username |\n",
       "|---|---|---|---|---|---|---|\n",
       "| 2020-01-07 22:14:20                                                                                                         | 41.86555                                                                                                                    | -87.81282                                                                                                                   | wrapper,cigarette,plastic                                                                                                   | https://s3.amazonaws.com/litterati-v3-bucket/2020/1/7/34059-ltr_1578431660.841352_856DCED5-73C1-4F00-9788-8476F3A515B5.jpg  | 34059                                                                                                                       | julieta                                                                                                                     |\n",
       "| 2020-01-07 22:14:04                                                                                                         | 41.86549                                                                                                                    | -87.81285                                                                                                                   | plastic,wrapper                                                                                                             | https://s3.amazonaws.com/litterati-v3-bucket/2020/1/7/34059-ltr_1578431644.2910419_FD168AC1-95C4-4000-A6E6-30432C200FD8.jpg | 34059                                                                                                                       | julieta                                                                                                                     |\n",
       "| 2020-01-07 22:14:18                                                                                                         | 41.86555                                                                                                                    | -87.81285                                                                                                                   | papertowel,paper                                                                                                            | https://s3.amazonaws.com/litterati-v3-bucket/2020/1/7/34059-ltr_1578431658.6658711_DDE3CD30-8544-436B-92AD-4B244C68F0DA.jpg | 34059                                                                                                                       | julieta                                                                                                                     |\n",
       "| 2020-01-07 22:14:22                                                                                                         | 41.86556                                                                                                                    | -87.81281                                                                                                                   | plastic                                                                                                                     | https://s3.amazonaws.com/litterati-v3-bucket/2020/1/7/34059-ltr_1578431662.3577209_27179EC7-5375-4676-804F-2CE25CCC8A7E.jpg | 34059                                                                                                                       | julieta                                                                                                                     |\n",
       "| 2020-01-07 22:15:21                                                                                                         | 41.86545                                                                                                                    | -87.81280                                                                                                                   | plastic,bag,walmart                                                                                                         | https://s3.amazonaws.com/litterati-v3-bucket/2020/1/7/34059-ltr_1578431721.325562_EEBD0732-96F3-441F-8A7D-9E6AF68BBD13.jpg  | 34059                                                                                                                       | julieta                                                                                                                     |\n",
       "| 2020-01-07 22:13:37                                                                                                         | 41.86540                                                                                                                    | -87.81265                                                                                                                   | plastic,candy,dumdums,wrapper                                                                                               | https://s3.amazonaws.com/litterati-v3-bucket/2020/1/7/34059-ltr_1578431617.1624532_7DD24C26-5E55-4F8F-BF5A-ECA68E012EE7.jpg | 34059                                                                                                                       | julieta                                                                                                                     |\n",
       "\n"
      ],
      "text/plain": [
       "  litterTimestamp     lat      lon       tags                         \n",
       "1 2020-01-07 22:14:20 41.86555 -87.81282 wrapper,cigarette,plastic    \n",
       "2 2020-01-07 22:14:04 41.86549 -87.81285 plastic,wrapper              \n",
       "3 2020-01-07 22:14:18 41.86555 -87.81285 papertowel,paper             \n",
       "4 2020-01-07 22:14:22 41.86556 -87.81281 plastic                      \n",
       "5 2020-01-07 22:15:21 41.86545 -87.81280 plastic,bag,walmart          \n",
       "6 2020-01-07 22:13:37 41.86540 -87.81265 plastic,candy,dumdums,wrapper\n",
       "  url                                                                                                                        \n",
       "1 https://s3.amazonaws.com/litterati-v3-bucket/2020/1/7/34059-ltr_1578431660.841352_856DCED5-73C1-4F00-9788-8476F3A515B5.jpg \n",
       "2 https://s3.amazonaws.com/litterati-v3-bucket/2020/1/7/34059-ltr_1578431644.2910419_FD168AC1-95C4-4000-A6E6-30432C200FD8.jpg\n",
       "3 https://s3.amazonaws.com/litterati-v3-bucket/2020/1/7/34059-ltr_1578431658.6658711_DDE3CD30-8544-436B-92AD-4B244C68F0DA.jpg\n",
       "4 https://s3.amazonaws.com/litterati-v3-bucket/2020/1/7/34059-ltr_1578431662.3577209_27179EC7-5375-4676-804F-2CE25CCC8A7E.jpg\n",
       "5 https://s3.amazonaws.com/litterati-v3-bucket/2020/1/7/34059-ltr_1578431721.325562_EEBD0732-96F3-441F-8A7D-9E6AF68BBD13.jpg \n",
       "6 https://s3.amazonaws.com/litterati-v3-bucket/2020/1/7/34059-ltr_1578431617.1624532_7DD24C26-5E55-4F8F-BF5A-ECA68E012EE7.jpg\n",
       "  user_id username\n",
       "1 34059   julieta \n",
       "2 34059   julieta \n",
       "3 34059   julieta \n",
       "4 34059   julieta \n",
       "5 34059   julieta \n",
       "6 34059   julieta "
      ]
     },
     "metadata": {},
     "output_type": "display_data"
    }
   ],
   "source": [
    "# drop redundant or unused columns\n",
    "data$challengeId <- NULL\n",
    "data$litterjoinId <- NULL\n",
    "data$litterId <- NULL\n",
    "head(data)"
   ]
  },
  {
   "cell_type": "code",
   "execution_count": 421,
   "metadata": {},
   "outputs": [],
   "source": [
    "# rename longitude column for leaflet\n",
    "data$long <- data$lon\n",
    "data$lon <- NULL\n",
    "data <- data[, c(1:2, 7, 3:6)]"
   ]
  },
  {
   "cell_type": "code",
   "execution_count": 422,
   "metadata": {},
   "outputs": [],
   "source": [
    "# remove out of range data\n",
    "data <- data[(data$lat < 41.884 & data$lat > 41.853 & data$long < -87.803 & data$long > -87.827),]"
   ]
  },
  {
   "cell_type": "code",
   "execution_count": 423,
   "metadata": {},
   "outputs": [],
   "source": [
    "# untagged items given \"untagged\" tag, using regex pattern ^$ for empty strings\n",
    "data$tags <- sub(\"^$\", \"untagged\", data$tags)"
   ]
  },
  {
   "cell_type": "code",
   "execution_count": 424,
   "metadata": {},
   "outputs": [],
   "source": [
    "# convert all tags to list of individual tags, using regex pattern ,.* for anything following a comma\n",
    "data$tags <- gsub(\",.*\", \"\", data$tags)\n",
    "tags_list <- data$tags"
   ]
  },
  {
   "cell_type": "code",
   "execution_count": 425,
   "metadata": {
    "scrolled": false
   },
   "outputs": [],
   "source": [
    "# convert timestamp from GMT to CST timezone\n",
    "x <- as.POSIXct(data$litterTimestamp, tz = \"GMT\")\n",
    "data$litterTimestamp <- with_tz(x, \"America/Chicago\")"
   ]
  },
  {
   "cell_type": "code",
   "execution_count": 426,
   "metadata": {},
   "outputs": [],
   "source": [
    "# separate timestamp column into date and time columns\n",
    "data$date <- as.Date(data$litterTimestamp)\n",
    "data$time <- format(as.POSIXct(data$litterTimestamp), format = \"%H:%M:%S\")\n",
    "\n",
    "# drop unnecessary timestamp column\n",
    "data$litterTimestamp <- NULL\n",
    "\n",
    "# move new data and time columns to front\n",
    "data <- data[,c(7, 8, 1:6)]"
   ]
  },
  {
   "cell_type": "code",
   "execution_count": 427,
   "metadata": {},
   "outputs": [
    {
     "data": {
      "text/html": [
       "<table>\n",
       "<thead><tr><th scope=col>date</th><th scope=col>time</th><th scope=col>lat</th><th scope=col>long</th><th scope=col>tags</th><th scope=col>url</th><th scope=col>user_id</th><th scope=col>username</th></tr></thead>\n",
       "<tbody>\n",
       "\t<tr><td>2020-01-07                                                                                                                 </td><td>16:14:20                                                                                                                   </td><td>41.86555                                                                                                                   </td><td>-87.81282                                                                                                                  </td><td>wrapper                                                                                                                    </td><td>https://s3.amazonaws.com/litterati-v3-bucket/2020/1/7/34059-ltr_1578431660.841352_856DCED5-73C1-4F00-9788-8476F3A515B5.jpg </td><td>34059                                                                                                                      </td><td>julieta                                                                                                                    </td></tr>\n",
       "\t<tr><td>2020-01-07                                                                                                                 </td><td>16:14:04                                                                                                                   </td><td>41.86549                                                                                                                   </td><td>-87.81285                                                                                                                  </td><td>plastic                                                                                                                    </td><td>https://s3.amazonaws.com/litterati-v3-bucket/2020/1/7/34059-ltr_1578431644.2910419_FD168AC1-95C4-4000-A6E6-30432C200FD8.jpg</td><td>34059                                                                                                                      </td><td>julieta                                                                                                                    </td></tr>\n",
       "\t<tr><td>2020-01-07                                                                                                                 </td><td>16:14:18                                                                                                                   </td><td>41.86555                                                                                                                   </td><td>-87.81285                                                                                                                  </td><td>papertowel                                                                                                                 </td><td>https://s3.amazonaws.com/litterati-v3-bucket/2020/1/7/34059-ltr_1578431658.6658711_DDE3CD30-8544-436B-92AD-4B244C68F0DA.jpg</td><td>34059                                                                                                                      </td><td>julieta                                                                                                                    </td></tr>\n",
       "\t<tr><td>2020-01-07                                                                                                                 </td><td>16:14:22                                                                                                                   </td><td>41.86556                                                                                                                   </td><td>-87.81281                                                                                                                  </td><td>plastic                                                                                                                    </td><td>https://s3.amazonaws.com/litterati-v3-bucket/2020/1/7/34059-ltr_1578431662.3577209_27179EC7-5375-4676-804F-2CE25CCC8A7E.jpg</td><td>34059                                                                                                                      </td><td>julieta                                                                                                                    </td></tr>\n",
       "\t<tr><td>2020-01-07                                                                                                                 </td><td>16:15:21                                                                                                                   </td><td>41.86545                                                                                                                   </td><td>-87.81280                                                                                                                  </td><td>plastic                                                                                                                    </td><td>https://s3.amazonaws.com/litterati-v3-bucket/2020/1/7/34059-ltr_1578431721.325562_EEBD0732-96F3-441F-8A7D-9E6AF68BBD13.jpg </td><td>34059                                                                                                                      </td><td>julieta                                                                                                                    </td></tr>\n",
       "\t<tr><td>2020-01-07                                                                                                                 </td><td>16:13:37                                                                                                                   </td><td>41.86540                                                                                                                   </td><td>-87.81265                                                                                                                  </td><td>plastic                                                                                                                    </td><td>https://s3.amazonaws.com/litterati-v3-bucket/2020/1/7/34059-ltr_1578431617.1624532_7DD24C26-5E55-4F8F-BF5A-ECA68E012EE7.jpg</td><td>34059                                                                                                                      </td><td>julieta                                                                                                                    </td></tr>\n",
       "</tbody>\n",
       "</table>\n"
      ],
      "text/latex": [
       "\\begin{tabular}{r|llllllll}\n",
       " date & time & lat & long & tags & url & user\\_id & username\\\\\n",
       "\\hline\n",
       "\t 2020-01-07                                                                                                                      & 16:14:20                                                                                                                        & 41.86555                                                                                                                        & -87.81282                                                                                                                       & wrapper                                                                                                                         & https://s3.amazonaws.com/litterati-v3-bucket/2020/1/7/34059-ltr\\_1578431660.841352\\_856DCED5-73C1-4F00-9788-8476F3A515B5.jpg  & 34059                                                                                                                           & julieta                                                                                                                        \\\\\n",
       "\t 2020-01-07                                                                                                                      & 16:14:04                                                                                                                        & 41.86549                                                                                                                        & -87.81285                                                                                                                       & plastic                                                                                                                         & https://s3.amazonaws.com/litterati-v3-bucket/2020/1/7/34059-ltr\\_1578431644.2910419\\_FD168AC1-95C4-4000-A6E6-30432C200FD8.jpg & 34059                                                                                                                           & julieta                                                                                                                        \\\\\n",
       "\t 2020-01-07                                                                                                                      & 16:14:18                                                                                                                        & 41.86555                                                                                                                        & -87.81285                                                                                                                       & papertowel                                                                                                                      & https://s3.amazonaws.com/litterati-v3-bucket/2020/1/7/34059-ltr\\_1578431658.6658711\\_DDE3CD30-8544-436B-92AD-4B244C68F0DA.jpg & 34059                                                                                                                           & julieta                                                                                                                        \\\\\n",
       "\t 2020-01-07                                                                                                                      & 16:14:22                                                                                                                        & 41.86556                                                                                                                        & -87.81281                                                                                                                       & plastic                                                                                                                         & https://s3.amazonaws.com/litterati-v3-bucket/2020/1/7/34059-ltr\\_1578431662.3577209\\_27179EC7-5375-4676-804F-2CE25CCC8A7E.jpg & 34059                                                                                                                           & julieta                                                                                                                        \\\\\n",
       "\t 2020-01-07                                                                                                                      & 16:15:21                                                                                                                        & 41.86545                                                                                                                        & -87.81280                                                                                                                       & plastic                                                                                                                         & https://s3.amazonaws.com/litterati-v3-bucket/2020/1/7/34059-ltr\\_1578431721.325562\\_EEBD0732-96F3-441F-8A7D-9E6AF68BBD13.jpg  & 34059                                                                                                                           & julieta                                                                                                                        \\\\\n",
       "\t 2020-01-07                                                                                                                      & 16:13:37                                                                                                                        & 41.86540                                                                                                                        & -87.81265                                                                                                                       & plastic                                                                                                                         & https://s3.amazonaws.com/litterati-v3-bucket/2020/1/7/34059-ltr\\_1578431617.1624532\\_7DD24C26-5E55-4F8F-BF5A-ECA68E012EE7.jpg & 34059                                                                                                                           & julieta                                                                                                                        \\\\\n",
       "\\end{tabular}\n"
      ],
      "text/markdown": [
       "\n",
       "| date | time | lat | long | tags | url | user_id | username |\n",
       "|---|---|---|---|---|---|---|---|\n",
       "| 2020-01-07                                                                                                                  | 16:14:20                                                                                                                    | 41.86555                                                                                                                    | -87.81282                                                                                                                   | wrapper                                                                                                                     | https://s3.amazonaws.com/litterati-v3-bucket/2020/1/7/34059-ltr_1578431660.841352_856DCED5-73C1-4F00-9788-8476F3A515B5.jpg  | 34059                                                                                                                       | julieta                                                                                                                     |\n",
       "| 2020-01-07                                                                                                                  | 16:14:04                                                                                                                    | 41.86549                                                                                                                    | -87.81285                                                                                                                   | plastic                                                                                                                     | https://s3.amazonaws.com/litterati-v3-bucket/2020/1/7/34059-ltr_1578431644.2910419_FD168AC1-95C4-4000-A6E6-30432C200FD8.jpg | 34059                                                                                                                       | julieta                                                                                                                     |\n",
       "| 2020-01-07                                                                                                                  | 16:14:18                                                                                                                    | 41.86555                                                                                                                    | -87.81285                                                                                                                   | papertowel                                                                                                                  | https://s3.amazonaws.com/litterati-v3-bucket/2020/1/7/34059-ltr_1578431658.6658711_DDE3CD30-8544-436B-92AD-4B244C68F0DA.jpg | 34059                                                                                                                       | julieta                                                                                                                     |\n",
       "| 2020-01-07                                                                                                                  | 16:14:22                                                                                                                    | 41.86556                                                                                                                    | -87.81281                                                                                                                   | plastic                                                                                                                     | https://s3.amazonaws.com/litterati-v3-bucket/2020/1/7/34059-ltr_1578431662.3577209_27179EC7-5375-4676-804F-2CE25CCC8A7E.jpg | 34059                                                                                                                       | julieta                                                                                                                     |\n",
       "| 2020-01-07                                                                                                                  | 16:15:21                                                                                                                    | 41.86545                                                                                                                    | -87.81280                                                                                                                   | plastic                                                                                                                     | https://s3.amazonaws.com/litterati-v3-bucket/2020/1/7/34059-ltr_1578431721.325562_EEBD0732-96F3-441F-8A7D-9E6AF68BBD13.jpg  | 34059                                                                                                                       | julieta                                                                                                                     |\n",
       "| 2020-01-07                                                                                                                  | 16:13:37                                                                                                                    | 41.86540                                                                                                                    | -87.81265                                                                                                                   | plastic                                                                                                                     | https://s3.amazonaws.com/litterati-v3-bucket/2020/1/7/34059-ltr_1578431617.1624532_7DD24C26-5E55-4F8F-BF5A-ECA68E012EE7.jpg | 34059                                                                                                                       | julieta                                                                                                                     |\n",
       "\n"
      ],
      "text/plain": [
       "  date       time     lat      long      tags      \n",
       "1 2020-01-07 16:14:20 41.86555 -87.81282 wrapper   \n",
       "2 2020-01-07 16:14:04 41.86549 -87.81285 plastic   \n",
       "3 2020-01-07 16:14:18 41.86555 -87.81285 papertowel\n",
       "4 2020-01-07 16:14:22 41.86556 -87.81281 plastic   \n",
       "5 2020-01-07 16:15:21 41.86545 -87.81280 plastic   \n",
       "6 2020-01-07 16:13:37 41.86540 -87.81265 plastic   \n",
       "  url                                                                                                                        \n",
       "1 https://s3.amazonaws.com/litterati-v3-bucket/2020/1/7/34059-ltr_1578431660.841352_856DCED5-73C1-4F00-9788-8476F3A515B5.jpg \n",
       "2 https://s3.amazonaws.com/litterati-v3-bucket/2020/1/7/34059-ltr_1578431644.2910419_FD168AC1-95C4-4000-A6E6-30432C200FD8.jpg\n",
       "3 https://s3.amazonaws.com/litterati-v3-bucket/2020/1/7/34059-ltr_1578431658.6658711_DDE3CD30-8544-436B-92AD-4B244C68F0DA.jpg\n",
       "4 https://s3.amazonaws.com/litterati-v3-bucket/2020/1/7/34059-ltr_1578431662.3577209_27179EC7-5375-4676-804F-2CE25CCC8A7E.jpg\n",
       "5 https://s3.amazonaws.com/litterati-v3-bucket/2020/1/7/34059-ltr_1578431721.325562_EEBD0732-96F3-441F-8A7D-9E6AF68BBD13.jpg \n",
       "6 https://s3.amazonaws.com/litterati-v3-bucket/2020/1/7/34059-ltr_1578431617.1624532_7DD24C26-5E55-4F8F-BF5A-ECA68E012EE7.jpg\n",
       "  user_id username\n",
       "1 34059   julieta \n",
       "2 34059   julieta \n",
       "3 34059   julieta \n",
       "4 34059   julieta \n",
       "5 34059   julieta \n",
       "6 34059   julieta "
      ]
     },
     "metadata": {},
     "output_type": "display_data"
    }
   ],
   "source": [
    "# get glance of cleaned data set\n",
    "head(data)"
   ]
  },
  {
   "cell_type": "code",
   "execution_count": 428,
   "metadata": {},
   "outputs": [
    {
     "data": {
      "text/html": [
       "<dl class=dl-horizontal>\n",
       "\t<dt>akira28</dt>\n",
       "\t\t<dd>1</dd>\n",
       "\t<dt>Andrea</dt>\n",
       "\t\t<dd>58</dd>\n",
       "\t<dt>ann-66</dt>\n",
       "\t\t<dd>25</dd>\n",
       "\t<dt>balichic</dt>\n",
       "\t\t<dd>0</dd>\n",
       "\t<dt>betivere</dt>\n",
       "\t\t<dd>632</dd>\n",
       "\t<dt>c-and-h</dt>\n",
       "\t\t<dd>33</dd>\n",
       "\t<dt>dimsum22</dt>\n",
       "\t\t<dd>74</dd>\n",
       "\t<dt>drjoerocx</dt>\n",
       "\t\t<dd>2</dd>\n",
       "\t<dt>etta</dt>\n",
       "\t\t<dd>1</dd>\n",
       "\t<dt>gloria</dt>\n",
       "\t\t<dd>0</dd>\n",
       "\t<dt>gregorygwen</dt>\n",
       "\t\t<dd>0</dd>\n",
       "\t<dt>jill-wagner</dt>\n",
       "\t\t<dd>2722</dd>\n",
       "\t<dt>jlv</dt>\n",
       "\t\t<dd>19</dd>\n",
       "\t<dt>Julianne B</dt>\n",
       "\t\t<dd>601</dd>\n",
       "\t<dt>julieta</dt>\n",
       "\t\t<dd>5893</dd>\n",
       "\t<dt>litterati-115453</dt>\n",
       "\t\t<dd>2</dd>\n",
       "\t<dt>litterati-117766</dt>\n",
       "\t\t<dd>35</dd>\n",
       "\t<dt>litterati-119389</dt>\n",
       "\t\t<dd>8</dd>\n",
       "\t<dt>litterati-126822</dt>\n",
       "\t\t<dd>78</dd>\n",
       "\t<dt>litterati-127490</dt>\n",
       "\t\t<dd>9</dd>\n",
       "\t<dt>litterati-57379</dt>\n",
       "\t\t<dd>1</dd>\n",
       "\t<dt>litterati-64263</dt>\n",
       "\t\t<dd>2</dd>\n",
       "\t<dt>litterati-73940</dt>\n",
       "\t\t<dd>540</dd>\n",
       "\t<dt>lyons-forest-park-il</dt>\n",
       "\t\t<dd>14</dd>\n",
       "\t<dt>maggie_ita</dt>\n",
       "\t\t<dd>4</dd>\n",
       "\t<dt>maro-</dt>\n",
       "\t\t<dd>922</dd>\n",
       "\t<dt>mary-40</dt>\n",
       "\t\t<dd>6</dd>\n",
       "\t<dt>miguelp</dt>\n",
       "\t\t<dd>1</dd>\n",
       "\t<dt>mirmaid</dt>\n",
       "\t\t<dd>4</dd>\n",
       "\t<dt>Momoftwins</dt>\n",
       "\t\t<dd>0</dd>\n",
       "\t<dt>mwoe</dt>\n",
       "\t\t<dd>0</dd>\n",
       "\t<dt>pamiela</dt>\n",
       "\t\t<dd>1</dd>\n",
       "\t<dt>piehead</dt>\n",
       "\t\t<dd>2</dd>\n",
       "\t<dt>rerunvonlinus</dt>\n",
       "\t\t<dd>131</dd>\n",
       "\t<dt>serenity</dt>\n",
       "\t\t<dd>80</dd>\n",
       "\t<dt>sharonbp</dt>\n",
       "\t\t<dd>0</dd>\n",
       "</dl>\n"
      ],
      "text/latex": [
       "\\begin{description*}\n",
       "\\item[akira28] 1\n",
       "\\item[Andrea] 58\n",
       "\\item[ann-66] 25\n",
       "\\item[balichic] 0\n",
       "\\item[betivere] 632\n",
       "\\item[c-and-h] 33\n",
       "\\item[dimsum22] 74\n",
       "\\item[drjoerocx] 2\n",
       "\\item[etta] 1\n",
       "\\item[gloria] 0\n",
       "\\item[gregorygwen] 0\n",
       "\\item[jill-wagner] 2722\n",
       "\\item[jlv] 19\n",
       "\\item[Julianne B] 601\n",
       "\\item[julieta] 5893\n",
       "\\item[litterati-115453] 2\n",
       "\\item[litterati-117766] 35\n",
       "\\item[litterati-119389] 8\n",
       "\\item[litterati-126822] 78\n",
       "\\item[litterati-127490] 9\n",
       "\\item[litterati-57379] 1\n",
       "\\item[litterati-64263] 2\n",
       "\\item[litterati-73940] 540\n",
       "\\item[lyons-forest-park-il] 14\n",
       "\\item[maggie\\textbackslash{}\\_ita] 4\n",
       "\\item[maro-] 922\n",
       "\\item[mary-40] 6\n",
       "\\item[miguelp] 1\n",
       "\\item[mirmaid] 4\n",
       "\\item[Momoftwins] 0\n",
       "\\item[mwoe] 0\n",
       "\\item[pamiela] 1\n",
       "\\item[piehead] 2\n",
       "\\item[rerunvonlinus] 131\n",
       "\\item[serenity] 80\n",
       "\\item[sharonbp] 0\n",
       "\\end{description*}\n"
      ],
      "text/markdown": [
       "akira28\n",
       ":   1Andrea\n",
       ":   58ann-66\n",
       ":   25balichic\n",
       ":   0betivere\n",
       ":   632c-and-h\n",
       ":   33dimsum22\n",
       ":   74drjoerocx\n",
       ":   2etta\n",
       ":   1gloria\n",
       ":   0gregorygwen\n",
       ":   0jill-wagner\n",
       ":   2722jlv\n",
       ":   19Julianne B\n",
       ":   601julieta\n",
       ":   5893litterati-115453\n",
       ":   2litterati-117766\n",
       ":   35litterati-119389\n",
       ":   8litterati-126822\n",
       ":   78litterati-127490\n",
       ":   9litterati-57379\n",
       ":   1litterati-64263\n",
       ":   2litterati-73940\n",
       ":   540lyons-forest-park-il\n",
       ":   14maggie_ita\n",
       ":   4maro-\n",
       ":   922mary-40\n",
       ":   6miguelp\n",
       ":   1mirmaid\n",
       ":   4Momoftwins\n",
       ":   0mwoe\n",
       ":   0pamiela\n",
       ":   1piehead\n",
       ":   2rerunvonlinus\n",
       ":   131serenity\n",
       ":   80sharonbp\n",
       ":   0\n",
       "\n"
      ],
      "text/plain": [
       "             akira28               Andrea               ann-66 \n",
       "                   1                   58                   25 \n",
       "            balichic             betivere              c-and-h \n",
       "                   0                  632                   33 \n",
       "            dimsum22            drjoerocx                 etta \n",
       "                  74                    2                    1 \n",
       "              gloria          gregorygwen          jill-wagner \n",
       "                   0                    0                 2722 \n",
       "                 jlv           Julianne B              julieta \n",
       "                  19                  601                 5893 \n",
       "    litterati-115453     litterati-117766     litterati-119389 \n",
       "                   2                   35                    8 \n",
       "    litterati-126822     litterati-127490      litterati-57379 \n",
       "                  78                    9                    1 \n",
       "     litterati-64263      litterati-73940 lyons-forest-park-il \n",
       "                   2                  540                   14 \n",
       "          maggie_ita                maro-              mary-40 \n",
       "                   4                  922                    6 \n",
       "             miguelp              mirmaid           Momoftwins \n",
       "                   1                    4                    0 \n",
       "                mwoe              pamiela              piehead \n",
       "                   0                    1                    2 \n",
       "       rerunvonlinus             serenity             sharonbp \n",
       "                 131                   80                    0 "
      ]
     },
     "metadata": {},
     "output_type": "display_data"
    }
   ],
   "source": [
    "# view users with no-name litterati-id format\n",
    "summary(data$username)"
   ]
  },
  {
   "cell_type": "code",
   "execution_count": 429,
   "metadata": {},
   "outputs": [],
   "source": [
    "# give unique name to no-name litterati-id format users\n",
    "levels(data$username)[match(\"litterati-73940\", levels(data$username))] <- \"unknown_user_8\"\n",
    "levels(data$username)[match(\"litterati-126822\", levels(data$username))] <- \"unknown_user_4\"\n",
    "levels(data$username)[match(\"litterati-117766\", levels(data$username))] <- \"unknown_user_2\"\n",
    "levels(data$username)[match(\"litterati-127490\", levels(data$username))] <- \"unknown_user_5\"\n",
    "levels(data$username)[match(\"litterati-119389\", levels(data$username))] <- \"unknown_user_3\"\n",
    "levels(data$username)[match(\"litterati-115453\", levels(data$username))] <- \"unknown_user_1\"\n",
    "levels(data$username)[match(\"litterati-64263\", levels(data$username))] <- \"unknown_user_7\"\n",
    "levels(data$username)[match(\"litterati-57379\", levels(data$username))] <- \"unknown_user_6\""
   ]
  },
  {
   "cell_type": "code",
   "execution_count": 430,
   "metadata": {},
   "outputs": [
    {
     "data": {
      "text/html": [
       "<table>\n",
       "<thead><tr><th scope=col>n</th></tr></thead>\n",
       "<tbody>\n",
       "\t<tr><td>11901</td></tr>\n",
       "</tbody>\n",
       "</table>\n"
      ],
      "text/latex": [
       "\\begin{tabular}{r|l}\n",
       " n\\\\\n",
       "\\hline\n",
       "\t 11901\\\\\n",
       "\\end{tabular}\n"
      ],
      "text/markdown": [
       "\n",
       "| n |\n",
       "|---|\n",
       "| 11901 |\n",
       "\n"
      ],
      "text/plain": [
       "  n    \n",
       "1 11901"
      ]
     },
     "metadata": {},
     "output_type": "display_data"
    }
   ],
   "source": [
    "# total litter picked up in Forest Park\n",
    "count(data)"
   ]
  },
  {
   "cell_type": "code",
   "execution_count": 431,
   "metadata": {},
   "outputs": [
    {
     "name": "stderr",
     "output_type": "stream",
     "text": [
      "Selecting by Count\n"
     ]
    },
    {
     "data": {
      "text/html": [
       "<table>\n",
       "<thead><tr><th scope=col>Username</th><th scope=col>Count</th></tr></thead>\n",
       "<tbody>\n",
       "\t<tr><td>julieta       </td><td>5893          </td></tr>\n",
       "\t<tr><td>jill-wagner   </td><td>2722          </td></tr>\n",
       "\t<tr><td>maro-         </td><td> 922          </td></tr>\n",
       "\t<tr><td>betivere      </td><td> 632          </td></tr>\n",
       "\t<tr><td>Julianne B    </td><td> 601          </td></tr>\n",
       "\t<tr><td>unknown_user_8</td><td> 540          </td></tr>\n",
       "\t<tr><td>rerunvonlinus </td><td> 131          </td></tr>\n",
       "\t<tr><td>serenity      </td><td>  80          </td></tr>\n",
       "\t<tr><td>unknown_user_4</td><td>  78          </td></tr>\n",
       "\t<tr><td>dimsum22      </td><td>  74          </td></tr>\n",
       "</tbody>\n",
       "</table>\n"
      ],
      "text/latex": [
       "\\begin{tabular}{r|ll}\n",
       " Username & Count\\\\\n",
       "\\hline\n",
       "\t julieta        & 5893          \\\\\n",
       "\t jill-wagner    & 2722          \\\\\n",
       "\t maro-          &  922          \\\\\n",
       "\t betivere       &  632          \\\\\n",
       "\t Julianne B     &  601          \\\\\n",
       "\t unknown\\_user\\_8 &  540              \\\\\n",
       "\t rerunvonlinus  &  131          \\\\\n",
       "\t serenity       &   80          \\\\\n",
       "\t unknown\\_user\\_4 &   78              \\\\\n",
       "\t dimsum22       &   74          \\\\\n",
       "\\end{tabular}\n"
      ],
      "text/markdown": [
       "\n",
       "| Username | Count |\n",
       "|---|---|\n",
       "| julieta        | 5893           |\n",
       "| jill-wagner    | 2722           |\n",
       "| maro-          |  922           |\n",
       "| betivere       |  632           |\n",
       "| Julianne B     |  601           |\n",
       "| unknown_user_8 |  540           |\n",
       "| rerunvonlinus  |  131           |\n",
       "| serenity       |   80           |\n",
       "| unknown_user_4 |   78           |\n",
       "| dimsum22       |   74           |\n",
       "\n"
      ],
      "text/plain": [
       "   Username       Count\n",
       "1  julieta        5893 \n",
       "2  jill-wagner    2722 \n",
       "3  maro-           922 \n",
       "4  betivere        632 \n",
       "5  Julianne B      601 \n",
       "6  unknown_user_8  540 \n",
       "7  rerunvonlinus   131 \n",
       "8  serenity         80 \n",
       "9  unknown_user_4   78 \n",
       "10 dimsum22         74 "
      ]
     },
     "metadata": {},
     "output_type": "display_data"
    }
   ],
   "source": [
    "# list of all and top 10 users by litter count\n",
    "all_users <- data.frame(sort(table(data$username), decreasing = TRUE))\n",
    "names(all_users)[1] <- \"Username\"\n",
    "names(all_users)[2] <- \"Count\"\n",
    "top10 <- top_n(all_users, 10)\n",
    "top10"
   ]
  },
  {
   "cell_type": "code",
   "execution_count": 432,
   "metadata": {},
   "outputs": [
    {
     "name": "stderr",
     "output_type": "stream",
     "text": [
      "Selecting by Count\n"
     ]
    },
    {
     "data": {
      "text/html": [
       "<table>\n",
       "<thead><tr><th scope=col>Tag</th><th scope=col>Count</th></tr></thead>\n",
       "<tbody>\n",
       "\t<tr><td>plastic  </td><td>2861     </td></tr>\n",
       "\t<tr><td>paper    </td><td>1966     </td></tr>\n",
       "\t<tr><td>untagged </td><td>1468     </td></tr>\n",
       "\t<tr><td>wrapper  </td><td> 804     </td></tr>\n",
       "\t<tr><td>cigarette</td><td> 469     </td></tr>\n",
       "\t<tr><td>styrofoam</td><td> 292     </td></tr>\n",
       "\t<tr><td>bag      </td><td> 283     </td></tr>\n",
       "\t<tr><td>bottle   </td><td> 215     </td></tr>\n",
       "\t<tr><td>cup      </td><td> 214     </td></tr>\n",
       "\t<tr><td>receipt  </td><td> 174     </td></tr>\n",
       "</tbody>\n",
       "</table>\n"
      ],
      "text/latex": [
       "\\begin{tabular}{r|ll}\n",
       " Tag & Count\\\\\n",
       "\\hline\n",
       "\t plastic   & 2861     \\\\\n",
       "\t paper     & 1966     \\\\\n",
       "\t untagged  & 1468     \\\\\n",
       "\t wrapper   &  804     \\\\\n",
       "\t cigarette &  469     \\\\\n",
       "\t styrofoam &  292     \\\\\n",
       "\t bag       &  283     \\\\\n",
       "\t bottle    &  215     \\\\\n",
       "\t cup       &  214     \\\\\n",
       "\t receipt   &  174     \\\\\n",
       "\\end{tabular}\n"
      ],
      "text/markdown": [
       "\n",
       "| Tag | Count |\n",
       "|---|---|\n",
       "| plastic   | 2861      |\n",
       "| paper     | 1966      |\n",
       "| untagged  | 1468      |\n",
       "| wrapper   |  804      |\n",
       "| cigarette |  469      |\n",
       "| styrofoam |  292      |\n",
       "| bag       |  283      |\n",
       "| bottle    |  215      |\n",
       "| cup       |  214      |\n",
       "| receipt   |  174      |\n",
       "\n"
      ],
      "text/plain": [
       "   Tag       Count\n",
       "1  plastic   2861 \n",
       "2  paper     1966 \n",
       "3  untagged  1468 \n",
       "4  wrapper    804 \n",
       "5  cigarette  469 \n",
       "6  styrofoam  292 \n",
       "7  bag        283 \n",
       "8  bottle     215 \n",
       "9  cup        214 \n",
       "10 receipt    174 "
      ]
     },
     "metadata": {},
     "output_type": "display_data"
    }
   ],
   "source": [
    "# list of all and top 10 tags by litter count\n",
    "all_tags <- data.frame(sort(table(tags_list), decreasing = TRUE))\n",
    "names(all_tags)[1] <- \"Tag\"\n",
    "names(all_tags)[2] <- \"Count\"\n",
    "top10_tags <- top_n(all_tags, 10)\n",
    "top10_tags"
   ]
  },
  {
   "cell_type": "code",
   "execution_count": 433,
   "metadata": {},
   "outputs": [
    {
     "data": {
      "text/html": [
       "<table>\n",
       "<thead><tr><th scope=col>Date</th><th scope=col>Count</th></tr></thead>\n",
       "<tbody>\n",
       "\t<tr><td>2018-04-19</td><td> 5        </td></tr>\n",
       "\t<tr><td>2018-04-20</td><td> 6        </td></tr>\n",
       "\t<tr><td>2018-04-21</td><td> 1        </td></tr>\n",
       "\t<tr><td>2018-04-22</td><td>94        </td></tr>\n",
       "\t<tr><td>2018-04-25</td><td>10        </td></tr>\n",
       "\t<tr><td>2018-04-26</td><td> 2        </td></tr>\n",
       "</tbody>\n",
       "</table>\n"
      ],
      "text/latex": [
       "\\begin{tabular}{r|ll}\n",
       " Date & Count\\\\\n",
       "\\hline\n",
       "\t 2018-04-19 &  5        \\\\\n",
       "\t 2018-04-20 &  6        \\\\\n",
       "\t 2018-04-21 &  1        \\\\\n",
       "\t 2018-04-22 & 94        \\\\\n",
       "\t 2018-04-25 & 10        \\\\\n",
       "\t 2018-04-26 &  2        \\\\\n",
       "\\end{tabular}\n"
      ],
      "text/markdown": [
       "\n",
       "| Date | Count |\n",
       "|---|---|\n",
       "| 2018-04-19 |  5         |\n",
       "| 2018-04-20 |  6         |\n",
       "| 2018-04-21 |  1         |\n",
       "| 2018-04-22 | 94         |\n",
       "| 2018-04-25 | 10         |\n",
       "| 2018-04-26 |  2         |\n",
       "\n"
      ],
      "text/plain": [
       "  Date       Count\n",
       "1 2018-04-19  5   \n",
       "2 2018-04-20  6   \n",
       "3 2018-04-21  1   \n",
       "4 2018-04-22 94   \n",
       "5 2018-04-25 10   \n",
       "6 2018-04-26  2   "
      ]
     },
     "metadata": {},
     "output_type": "display_data"
    }
   ],
   "source": [
    "# table for daily litter picked up\n",
    "dates <- data.frame(table(data$date))\n",
    "names(dates)[1] <- \"Date\"\n",
    "names(dates)[2] <- \"Count\"\n",
    "head(dates)"
   ]
  },
  {
   "cell_type": "code",
   "execution_count": 434,
   "metadata": {},
   "outputs": [
    {
     "data": {
      "image/png": "[encoded data removed]",
      "text/plain": [
       "plot without title"
      ]
     },
     "metadata": {},
     "output_type": "display_data"
    }
   ],
   "source": [
    "# a bar chart showing the amount of litter picked up each day from \n",
    "# the beginning of the data file to the end (i.e. from Apr 4, 2018 to Jan 7, 2020)\n",
    "options(repr.plot.width = 20, repr.plot.height = 4)\n",
    "ggplot(data = dates, aes(x = as.Date(Date), y = Count)) + geom_col(color = \"dodgerblue4\", fill = \"dodgerblue4\") + \n",
    "scale_x_date(date_breaks = \"30 days\", date_labels = \"%m/%d/%Y\") +\n",
    "xlab(\"Day\") + ylab(\"Litter Picked Up\") + \n",
    "theme(axis.text.x = element_text(size = 11), axis.text.y = element_text(size = 14), axis.title.x = element_text(size = 18), axis.title.y = element_text(size = 18)) "
   ]
  },
  {
   "cell_type": "code",
   "execution_count": 435,
   "metadata": {},
   "outputs": [
    {
     "data": {
      "text/html": [
       "<table>\n",
       "<thead><tr><th></th><th scope=col>Day</th><th scope=col>Count</th></tr></thead>\n",
       "<tbody>\n",
       "\t<tr><th scope=row>2</th><td>Monday   </td><td>1543     </td></tr>\n",
       "\t<tr><th scope=row>6</th><td>Tuesday  </td><td>1384     </td></tr>\n",
       "\t<tr><th scope=row>7</th><td>Wednesday</td><td>2187     </td></tr>\n",
       "\t<tr><th scope=row>5</th><td>Thursday </td><td>1541     </td></tr>\n",
       "\t<tr><th scope=row>1</th><td>Friday   </td><td>1355     </td></tr>\n",
       "\t<tr><th scope=row>3</th><td>Saturday </td><td>1724     </td></tr>\n",
       "\t<tr><th scope=row>4</th><td>Sunday   </td><td>2167     </td></tr>\n",
       "</tbody>\n",
       "</table>\n"
      ],
      "text/latex": [
       "\\begin{tabular}{r|ll}\n",
       "  & Day & Count\\\\\n",
       "\\hline\n",
       "\t2 & Monday    & 1543     \\\\\n",
       "\t6 & Tuesday   & 1384     \\\\\n",
       "\t7 & Wednesday & 2187     \\\\\n",
       "\t5 & Thursday  & 1541     \\\\\n",
       "\t1 & Friday    & 1355     \\\\\n",
       "\t3 & Saturday  & 1724     \\\\\n",
       "\t4 & Sunday    & 2167     \\\\\n",
       "\\end{tabular}\n"
      ],
      "text/markdown": [
       "\n",
       "| <!--/--> | Day | Count |\n",
       "|---|---|---|\n",
       "| 2 | Monday    | 1543      |\n",
       "| 6 | Tuesday   | 1384      |\n",
       "| 7 | Wednesday | 2187      |\n",
       "| 5 | Thursday  | 1541      |\n",
       "| 1 | Friday    | 1355      |\n",
       "| 3 | Saturday  | 1724      |\n",
       "| 4 | Sunday    | 2167      |\n",
       "\n"
      ],
      "text/plain": [
       "  Day       Count\n",
       "2 Monday    1543 \n",
       "6 Tuesday   1384 \n",
       "7 Wednesday 2187 \n",
       "5 Thursday  1541 \n",
       "1 Friday    1355 \n",
       "3 Saturday  1724 \n",
       "4 Sunday    2167 "
      ]
     },
     "metadata": {},
     "output_type": "display_data"
    }
   ],
   "source": [
    "# table for litter picked up each day of week\n",
    "week <- data.frame(table(weekdays(as.Date(data$date, \"%Y-%m-%d\"))))\n",
    "names(week)[1] <- \"Day\"\n",
    "names(week)[2] <- \"Count\"\n",
    "\n",
    "# reorder by days of week rather than count total\n",
    "week$Day <- factor(week$Day, levels = c(\"Monday\", \"Tuesday\", \"Wednesday\", \"Thursday\", \"Friday\", \"Saturday\", \"Sunday\"))\n",
    "week <- week[order(week$Day), ]\n",
    "week"
   ]
  },
  {
   "cell_type": "code",
   "execution_count": 436,
   "metadata": {},
   "outputs": [
    {
     "data": {
      "image/png": "[encoded data removed]",
      "text/plain": [
       "plot without title"
      ]
     },
     "metadata": {},
     "output_type": "display_data"
    }
   ],
   "source": [
    "# a bar chart showing the amount of litter picked up by day of the week (i.e. from Monday to Sunday)\n",
    "options(repr.plot.width = 12, repr.plot.height = 8)\n",
    "ggplot(data = week, aes(x = Day, y = Count, fill = Day)) + geom_col() + \n",
    "xlab(\"Day of the Week\") + ylab(\"Litter Picked Up\") + \n",
    "theme(text = element_text(size = 16), legend.position = \"none\")"
   ]
  },
  {
   "cell_type": "code",
   "execution_count": 437,
   "metadata": {},
   "outputs": [
    {
     "data": {
      "text/html": [
       "<table>\n",
       "<thead><tr><th scope=col>Hour</th><th scope=col>Count</th></tr></thead>\n",
       "<tbody>\n",
       "\t<tr><td>00  </td><td>   3</td></tr>\n",
       "\t<tr><td>01  </td><td>   0</td></tr>\n",
       "\t<tr><td>02  </td><td>   1</td></tr>\n",
       "\t<tr><td>03  </td><td>   0</td></tr>\n",
       "\t<tr><td>04  </td><td>   0</td></tr>\n",
       "\t<tr><td>05  </td><td>   0</td></tr>\n",
       "\t<tr><td>06  </td><td>   0</td></tr>\n",
       "\t<tr><td>07  </td><td>   0</td></tr>\n",
       "\t<tr><td>08  </td><td> 359</td></tr>\n",
       "\t<tr><td>09  </td><td> 884</td></tr>\n",
       "\t<tr><td>10  </td><td> 883</td></tr>\n",
       "\t<tr><td>11  </td><td> 846</td></tr>\n",
       "\t<tr><td>12  </td><td> 709</td></tr>\n",
       "\t<tr><td>13  </td><td>1274</td></tr>\n",
       "\t<tr><td>14  </td><td> 806</td></tr>\n",
       "\t<tr><td>15  </td><td>1309</td></tr>\n",
       "\t<tr><td>16  </td><td> 897</td></tr>\n",
       "\t<tr><td>17  </td><td> 834</td></tr>\n",
       "\t<tr><td>18  </td><td> 789</td></tr>\n",
       "\t<tr><td>19  </td><td> 824</td></tr>\n",
       "\t<tr><td>20  </td><td> 605</td></tr>\n",
       "\t<tr><td>21  </td><td> 373</td></tr>\n",
       "\t<tr><td>22  </td><td> 498</td></tr>\n",
       "\t<tr><td>23  </td><td>   7</td></tr>\n",
       "</tbody>\n",
       "</table>\n"
      ],
      "text/latex": [
       "\\begin{tabular}{r|ll}\n",
       " Hour & Count\\\\\n",
       "\\hline\n",
       "\t 00   &    3\\\\\n",
       "\t 01   &    0\\\\\n",
       "\t 02   &    1\\\\\n",
       "\t 03   &    0\\\\\n",
       "\t 04   &    0\\\\\n",
       "\t 05   &    0\\\\\n",
       "\t 06   &    0\\\\\n",
       "\t 07   &    0\\\\\n",
       "\t 08   &  359\\\\\n",
       "\t 09   &  884\\\\\n",
       "\t 10   &  883\\\\\n",
       "\t 11   &  846\\\\\n",
       "\t 12   &  709\\\\\n",
       "\t 13   & 1274\\\\\n",
       "\t 14   &  806\\\\\n",
       "\t 15   & 1309\\\\\n",
       "\t 16   &  897\\\\\n",
       "\t 17   &  834\\\\\n",
       "\t 18   &  789\\\\\n",
       "\t 19   &  824\\\\\n",
       "\t 20   &  605\\\\\n",
       "\t 21   &  373\\\\\n",
       "\t 22   &  498\\\\\n",
       "\t 23   &    7\\\\\n",
       "\\end{tabular}\n"
      ],
      "text/markdown": [
       "\n",
       "| Hour | Count |\n",
       "|---|---|\n",
       "| 00   |    3 |\n",
       "| 01   |    0 |\n",
       "| 02   |    1 |\n",
       "| 03   |    0 |\n",
       "| 04   |    0 |\n",
       "| 05   |    0 |\n",
       "| 06   |    0 |\n",
       "| 07   |    0 |\n",
       "| 08   |  359 |\n",
       "| 09   |  884 |\n",
       "| 10   |  883 |\n",
       "| 11   |  846 |\n",
       "| 12   |  709 |\n",
       "| 13   | 1274 |\n",
       "| 14   |  806 |\n",
       "| 15   | 1309 |\n",
       "| 16   |  897 |\n",
       "| 17   |  834 |\n",
       "| 18   |  789 |\n",
       "| 19   |  824 |\n",
       "| 20   |  605 |\n",
       "| 21   |  373 |\n",
       "| 22   |  498 |\n",
       "| 23   |    7 |\n",
       "\n"
      ],
      "text/plain": [
       "   Hour Count\n",
       "1  00      3 \n",
       "2  01      0 \n",
       "3  02      1 \n",
       "4  03      0 \n",
       "5  04      0 \n",
       "6  05      0 \n",
       "7  06      0 \n",
       "8  07      0 \n",
       "9  08    359 \n",
       "10 09    884 \n",
       "11 10    883 \n",
       "12 11    846 \n",
       "13 12    709 \n",
       "14 13   1274 \n",
       "15 14    806 \n",
       "16 15   1309 \n",
       "17 16    897 \n",
       "18 17    834 \n",
       "19 18    789 \n",
       "20 19    824 \n",
       "21 20    605 \n",
       "22 21    373 \n",
       "23 22    498 \n",
       "24 23      7 "
      ]
     },
     "metadata": {},
     "output_type": "display_data"
    }
   ],
   "source": [
    "# table for litter picked up each hour\n",
    "\n",
    "# create empty data frame from 0-23 padded to two digits\n",
    "hour <- data.frame(formatC(0:23, width = 2, format = \"d\", flag = \"0\"), 0)\n",
    "names(hour)[1] <- \"Hour\"\n",
    "names(hour)[2] <- \"Count\"\n",
    "\n",
    "# extract hour from time column into new data frame\n",
    "hour_trim <- data.frame(table(format(strptime(data$time, \"%H:%M:%S\"), \"%H\")))\n",
    "names(hour_trim)[1] <- \"Hour\"\n",
    "names(hour_trim)[2] <- \"Count\"\n",
    "\n",
    "# loop through both dataframes and merge where time matches\n",
    "for (i in 1: length(hour$Hour)) {\n",
    "    for (j in 1: length(hour_trim$Hour)) {\n",
    "        if (hour$Hour[i] == hour_trim$Hour[j]) {\n",
    "            hour$Count[i] <- hour_trim$Count[j]\n",
    "        }\n",
    "    }\n",
    "}\n",
    "\n",
    "hour"
   ]
  },
  {
   "cell_type": "code",
   "execution_count": 438,
   "metadata": {},
   "outputs": [
    {
     "data": {
      "image/png": "[encoded data removed]",
      "text/plain": [
       "plot without title"
      ]
     },
     "metadata": {},
     "output_type": "display_data"
    }
   ],
   "source": [
    "# a bar chart showing the amount of litter picked up by hour of the day (all 24 of them)\n",
    "options(repr.plot.width = 16, repr.plot.height = 8)\n",
    "ggplot(data = hour, aes(x = Hour, y = Count)) + geom_col(fill = \"dodgerblue4\") +\n",
    "ylim(0, 1500) + \n",
    "xlab(\"Hour of the Day (24-hr)\") + ylab(\"Litter Picked Up\") + \n",
    "theme(text = element_text(size = 16))"
   ]
  },
  {
   "cell_type": "code",
   "execution_count": 439,
   "metadata": {},
   "outputs": [
    {
     "data": {
      "image/png": "[encoded data removed]",
      "text/plain": [
       "plot without title"
      ]
     },
     "metadata": {},
     "output_type": "display_data"
    }
   ],
   "source": [
    "# a bar chart showing the number of pieces picked up by tag \n",
    "# (e.g. the individual tags like 'plastic', 'paper', 'wrapper', 'bag', etc., including 'untagged', \n",
    "# not the combined tags like 'plastic, balloon') for the top 10 tags\n",
    "options(repr.plot.width = 10, repr.plot.height = 6)\n",
    "ggplot(data = top10_tags, aes(x = Tag, y = Count, fill = Tag)) + geom_col() + \n",
    "xlab(\"Tag\") + ylab(\"Litter Picked Up\") + \n",
    "theme(text = element_text(size = 14), legend.position = \"none\")"
   ]
  },
  {
   "cell_type": "code",
   "execution_count": 440,
   "metadata": {},
   "outputs": [],
   "source": [
    "# write the cleaned data to a CSV file\n",
    "write.csv(data, \"litterati_challenge-65_CLEANED.csv\")"
   ]
  },
  {
   "cell_type": "code",
   "execution_count": null,
   "metadata": {},
   "outputs": [],
   "source": []
  }
 ],
 "metadata": {
  "kernelspec": {
   "display_name": "R",
   "language": "R",
   "name": "ir"
  },
  "language_info": {
   "codemirror_mode": "r",
   "file_extension": ".r",
   "mimetype": "text/x-r-source",
   "name": "R",
   "pygments_lexer": "r",
   "version": "3.6.1"
  }
 },
 "nbformat": 4,
 "nbformat_minor": 2
}
